{
 "cells": [
  {
   "cell_type": "code",
   "execution_count": 1,
   "id": "374ebe55-c267-432f-8d72-0c4ea3ed6cbc",
   "metadata": {},
   "outputs": [],
   "source": [
    "import pandas as pd\n",
    "import numpy as np\n",
    "import matplotlib.pyplot as plt\n",
    "import seaborn as sns"
   ]
  },
  {
   "cell_type": "code",
   "execution_count": 2,
   "id": "cdcd4aa2-b274-4d62-8813-a00f8eab5049",
   "metadata": {},
   "outputs": [
    {
     "name": "stdout",
     "output_type": "stream",
     "text": [
      "      Unnamed: 0       urlDrugName  rating           effectiveness  \\\n",
      "0           2202         enalapril       4        Highly Effective   \n",
      "1           3117  ortho-tri-cyclen       1        Highly Effective   \n",
      "2           1146           ponstel      10        Highly Effective   \n",
      "3           3947          prilosec       3    Marginally Effective   \n",
      "4           1951            lyrica       2    Marginally Effective   \n",
      "...          ...               ...     ...                     ...   \n",
      "3102        1039           vyvanse      10        Highly Effective   \n",
      "3103        3281            zoloft       1             Ineffective   \n",
      "3104        1664           climara       2    Marginally Effective   \n",
      "3105        2621         trileptal       8  Considerably Effective   \n",
      "3106        2748          micardis       4    Moderately Effective   \n",
      "\n",
      "                        sideEffects                               condition  \\\n",
      "0                 Mild Side Effects  management of congestive heart failure   \n",
      "1               Severe Side Effects                        birth prevention   \n",
      "2                   No Side Effects                        menstrual cramps   \n",
      "3                 Mild Side Effects                             acid reflux   \n",
      "4               Severe Side Effects                            fibromyalgia   \n",
      "...                             ...                                     ...   \n",
      "3102              Mild Side Effects                                    adhd   \n",
      "3103  Extremely Severe Side Effects                              depression   \n",
      "3104          Moderate Side Effects                       total hysterctomy   \n",
      "3105              Mild Side Effects                                epilepsy   \n",
      "3106          Moderate Side Effects                     high blood pressure   \n",
      "\n",
      "                                         benefitsReview  \\\n",
      "0     slowed the progression of left ventricular dys...   \n",
      "1     Although this type of birth control has more c...   \n",
      "2     I was used to having cramps so badly that they...   \n",
      "3     The acid reflux went away for a few months aft...   \n",
      "4     I think that the Lyrica was starting to help w...   \n",
      "...                                                 ...   \n",
      "3102  Increased focus, attention, productivity. Bett...   \n",
      "3103    Emotions were somewhat blunted. Less moodiness.   \n",
      "3104                                                ---   \n",
      "3105               Controlled complex partial seizures.   \n",
      "3106  The drug Micardis did seem to alleviate my hig...   \n",
      "\n",
      "                                      sideEffectsReview  \\\n",
      "0     cough, hypotension , proteinuria, impotence , ...   \n",
      "1     Heavy Cycle, Cramps, Hot Flashes, Fatigue, Lon...   \n",
      "2            Heavier bleeding and clotting than normal.   \n",
      "3     Constipation, dry mouth and some mild dizzines...   \n",
      "4     I felt extremely drugged and dopey.  Could not...   \n",
      "...                                                 ...   \n",
      "3102  Restless legs at night, insomnia, headache (so...   \n",
      "3103  Weight gain, extreme tiredness during the day,...   \n",
      "3104  Constant issues with the patch not staying on....   \n",
      "3105                         Dizziness, fatigue, nausea   \n",
      "3106  I find when I am taking Micardis that I tend t...   \n",
      "\n",
      "                                         commentsReview  \n",
      "0     monitor blood pressure , weight and asses for ...  \n",
      "1     I Hate This Birth Control, I Would Not Suggest...  \n",
      "2     I took 2 pills at the onset of my menstrual cr...  \n",
      "3     I was given Prilosec prescription at a dose of...  \n",
      "4                                             See above  \n",
      "...                                                 ...  \n",
      "3102  I took adderall once as a child, and it made m...  \n",
      "3103  I was on Zoloft for about 2 years total. I am ...  \n",
      "3104                                                ---  \n",
      "3105  Started at 2 doses of 300 mg a day and worked ...  \n",
      "3106           I take Micardis in pill form once daily.  \n",
      "\n",
      "[3107 rows x 9 columns]\n"
     ]
    }
   ],
   "source": [
    "train_path = '/Users/z88756212/Documents/AI/python/medical sentiment analysis​/archive/Drug Reviews (Druglib.com)/drugLibTrain_raw.csv'\n",
    "test_path = '/Users/z88756212/Documents/AI/python/medical sentiment analysis​/archive/Drug Reviews (Druglib.com)/drugLibTest_raw.csv'\n",
    "df_train = pd.read_csv(train_path)\n",
    "df_test = pd.read_csv(test_path)\n",
    "print(df_train)"
   ]
  },
  {
   "cell_type": "markdown",
   "id": "c09aceae-d52b-4f41-b529-2208d26a250d",
   "metadata": {},
   "source": [
    "urlDrugName\t藥物名稱\n",
    "\n",
    "rating\t1-10 分評價（可用來做情感分類）\n",
    "\n",
    "effectiveness\t藥物效果（Highly Effective, Moderately Effective, etc.）\n",
    "\n",
    "sideEffects\t副作用程度（Mild, Severe, None, etc.）\n",
    "\n",
    "condition\t患者服用藥物的疾病\n",
    "\n",
    "benefitsReview\t藥物的好處（用來判斷正面情緒）\n",
    "\n",
    "sideEffectsReview\t副作用評論（用來判斷負面情緒）\n",
    "\n",
    "commentsReview\t整體評論（可能包含正負面意見）"
   ]
  },
  {
   "cell_type": "code",
   "execution_count": 4,
   "id": "751f9866-3611-4fb9-9645-53449d98401f",
   "metadata": {},
   "outputs": [
    {
     "name": "stdout",
     "output_type": "stream",
     "text": [
      "      Unnamed: 0     urlDrugName  rating           effectiveness  \\\n",
      "0           1366          biaxin       9  Considerably Effective   \n",
      "1           3724        lamictal       9        Highly Effective   \n",
      "2           3824        depakene       4    Moderately Effective   \n",
      "3            969         sarafem      10        Highly Effective   \n",
      "4            696        accutane      10        Highly Effective   \n",
      "...          ...             ...     ...                     ...   \n",
      "1031         690        accutane       7  Considerably Effective   \n",
      "1032        1071      proair-hfa      10        Highly Effective   \n",
      "1033         681        accutane       8  Considerably Effective   \n",
      "1034        2709         divigel      10        Highly Effective   \n",
      "1035         729  claripel-cream       8  Considerably Effective   \n",
      "\n",
      "                sideEffects                          condition  \\\n",
      "0         Mild Side Effects                    sinus infection   \n",
      "1         Mild Side Effects                   bipolar disorder   \n",
      "2       Severe Side Effects                   bipolar disorder   \n",
      "3           No Side Effects                 bi-polar / anxiety   \n",
      "4         Mild Side Effects                       nodular acne   \n",
      "...                     ...                                ...   \n",
      "1031    Severe Side Effects                      acne vulgaris   \n",
      "1032        No Side Effects                             asthma   \n",
      "1033  Moderate Side Effects                         serve acne   \n",
      "1034        No Side Effects                          menopause   \n",
      "1035      Mild Side Effects  acne scarring & hyperpigmentation   \n",
      "\n",
      "                                         benefitsReview  \\\n",
      "0     The antibiotic may have destroyed bacteria cau...   \n",
      "1     Lamictal stabilized my serious mood swings. On...   \n",
      "2     Initial benefits were comparable to the brand ...   \n",
      "3     It controlls my mood swings. It helps me think...   \n",
      "4     Within one week of treatment superficial acne ...   \n",
      "...                                                 ...   \n",
      "1031  Detoxing effect by pushing out the system thro...   \n",
      "1032  The albuterol relieved the constriction, irrit...   \n",
      "1033                    Serve Acne has turned to middle   \n",
      "1034  My overall mood, sense of well being, energy l...   \n",
      "1035  Up until 2 years ago, it worked really well on...   \n",
      "\n",
      "                                      sideEffectsReview  \\\n",
      "0                         Some back pain, some nauseau.   \n",
      "1     Drowsiness, a bit of mental numbness. If you t...   \n",
      "2     Depakene has a very thin coating, which caused...   \n",
      "3               I didnt really notice any side effects.   \n",
      "4     Side effects included moderate to severe dry s...   \n",
      "...                                                 ...   \n",
      "1031  Hairloss, extreme dry skin, itchiness, raises ...   \n",
      "1032                I have experienced no side effects.   \n",
      "1033    Painfull muscles, problems with seeing at night   \n",
      "1034  No side effects of any kind were noted or appa...   \n",
      "1035  Have stopped using it and have also learned th...   \n",
      "\n",
      "                                         commentsReview  \n",
      "0     Took the antibiotics for 14 days. Sinus infect...  \n",
      "1     Severe mood swings between hypomania and depre...  \n",
      "2     Depakote was prescribed to me by a Kaiser psyc...  \n",
      "3     This drug may not be for everyone but its wond...  \n",
      "4     Drug was taken in gelatin tablet at 0.5 mg per...  \n",
      "...                                                 ...  \n",
      "1031  Treatment period is 3 months/12 weeks. Dosage ...  \n",
      "1032  I use the albuterol as needed because of aller...  \n",
      "1033  This drug is highly teratogenic ,females must ...  \n",
      "1034  Divigel is a topically applied Bio-Identical H...  \n",
      "1035               Stopped using it for the time being.  \n",
      "\n",
      "[1036 rows x 9 columns]\n"
     ]
    }
   ],
   "source": [
    "print(df_test)"
   ]
  },
  {
   "cell_type": "code",
   "execution_count": 5,
   "id": "8ce81aa5-e722-4d25-a361-1f8dbcc824b8",
   "metadata": {},
   "outputs": [],
   "source": [
    "df_train = df_train[['rating', 'commentsReview']]\n",
    "df_test = df_test[['rating', 'commentsReview']]\n",
    "df_train.dropna(inplace=True)\n",
    "df_test.dropna(inplace=True)"
   ]
  },
  {
   "cell_type": "code",
   "execution_count": 6,
   "id": "a0c042c1-672a-4955-b1e3-c1837798ca6d",
   "metadata": {},
   "outputs": [
    {
     "name": "stdout",
     "output_type": "stream",
     "text": [
      "   rating                                     commentsReview sentiment\n",
      "0       4  monitor blood pressure , weight and asses for ...  negative\n",
      "1       1  i hate this birth control, i would not suggest...  negative\n",
      "2      10  i took 2 pills at the onset of my menstrual cr...  positive\n",
      "3       3  i was given prilosec prescription at a dose of...  negative\n",
      "4       2                                          see above  negative\n",
      "sentiment\n",
      "positive    2123\n",
      "negative     656\n",
      "neutral      316\n",
      "Name: count, dtype: int64\n"
     ]
    }
   ],
   "source": [
    "def map_sentiment(rating):\n",
    "    if rating >= 7:\n",
    "        return \"positive\"\n",
    "    elif rating <= 4:\n",
    "        return \"negative\"\n",
    "    else:\n",
    "        return \"neutral\"\n",
    "\n",
    "df_train['sentiment'] = df_train['rating'].apply(map_sentiment)\n",
    "df_test['sentiment'] = df_test['rating'].apply(map_sentiment)\n",
    "\n",
    "df_train['commentsReview'] = df_train['commentsReview'].str.lower().str.strip()\n",
    "df_test['commentsReview'] = df_test['commentsReview'].str.lower().str.strip()\n",
    "\n",
    "\n",
    "print(df_train.head())\n",
    "print(df_train['sentiment'].value_counts()) "
   ]
  },
  {
   "cell_type": "code",
   "execution_count": 7,
   "id": "f1d56ccd-c1f6-4eda-9647-7071c70d4fc6",
   "metadata": {},
   "outputs": [
    {
     "name": "stdout",
     "output_type": "stream",
     "text": [
      "sentiment\n",
      "positive    2123\n",
      "negative     656\n",
      "Name: count, dtype: int64\n"
     ]
    }
   ],
   "source": [
    "df_train = df_train[df_train['sentiment'] != 'neutral']\n",
    "df_test = df_test[df_test['sentiment'] != 'neutral']\n",
    "print(df_train['sentiment'].value_counts())"
   ]
  },
  {
   "cell_type": "code",
   "execution_count": 8,
   "id": "d1759eb4-c047-4b89-8c32-164b66fbccc4",
   "metadata": {},
   "outputs": [
    {
     "name": "stdout",
     "output_type": "stream",
     "text": [
      "                                    cleaned_comments sentiment\n",
      "0  monitor blood pressure weight and asses for re...  negative\n",
      "1  i hate this birth control i would not suggest ...  negative\n",
      "2  i took 2 pills at the onset of my menstrual cr...  positive\n",
      "3  i was given prilosec prescription at a dose of...  negative\n",
      "4                                          see above  negative\n"
     ]
    }
   ],
   "source": [
    "import re\n",
    "def clean_text(text):\n",
    "    text = text.lower()  \n",
    "    text = re.sub(r'\\W', ' ', text) \n",
    "    text = re.sub(r'\\s+', ' ', text).strip() \n",
    "    return text\n",
    "\n",
    "df_train['cleaned_comments'] = df_train['commentsReview'].apply(clean_text)\n",
    "df_test['cleaned_comments'] = df_test['commentsReview'].apply(clean_text)\n",
    "\n",
    "\n",
    "print(df_train[['cleaned_comments', 'sentiment']].head())"
   ]
  },
  {
   "cell_type": "code",
   "execution_count": 9,
   "id": "a1606762-486c-42f7-9ba9-28289d01fcdd",
   "metadata": {},
   "outputs": [
    {
     "name": "stdout",
     "output_type": "stream",
     "text": [
      "                                    cleaned_comments  sentiment_label\n",
      "0  monitor blood pressure weight and asses for re...                0\n",
      "1  i hate this birth control i would not suggest ...                0\n",
      "2  i took 2 pills at the onset of my menstrual cr...                1\n",
      "3  i was given prilosec prescription at a dose of...                0\n",
      "4                                          see above                0\n"
     ]
    }
   ],
   "source": [
    "df_train['sentiment_label'] = df_train['sentiment'].map({'positive': 1, 'negative': 0})\n",
    "df_test['sentiment_label'] = df_test['sentiment'].map({'positive': 1, 'negative': 0})\n",
    "\n",
    "print(df_train[['cleaned_comments', 'sentiment_label']].head())"
   ]
  },
  {
   "cell_type": "code",
   "execution_count": 10,
   "id": "81a12f59-9a57-4950-bbcf-89faa834b4b7",
   "metadata": {},
   "outputs": [
    {
     "name": "stderr",
     "output_type": "stream",
     "text": [
      "/Users/z88756212/anaconda3/lib/python3.10/site-packages/huggingface_hub/file_download.py:1150: FutureWarning: `resume_download` is deprecated and will be removed in version 1.0.0. Downloads always resume when possible. If you want to force a new download, use `force_download=True`.\n",
      "  warnings.warn(\n"
     ]
    },
    {
     "name": "stdout",
     "output_type": "stream",
     "text": [
      "dict_keys(['input_ids', 'token_type_ids', 'attention_mask'])\n"
     ]
    }
   ],
   "source": [
    "from transformers import BertTokenizer\n",
    "\n",
    "tokenizer = BertTokenizer.from_pretrained('bert-base-uncased')\n",
    "\n",
    "train_encodings = tokenizer(list(df_train['cleaned_comments']), truncation=True, padding=True, max_length=512)\n",
    "test_encodings = tokenizer(list(df_test['cleaned_comments']), truncation=True, padding=True, max_length=512)\n",
    "\n",
    "print(train_encodings.keys())"
   ]
  },
  {
   "cell_type": "code",
   "execution_count": 11,
   "id": "5b96bea8-51fb-44e4-a542-02c30fe93653",
   "metadata": {},
   "outputs": [],
   "source": [
    "import torch\n",
    "\n",
    "class SentimentDataset(torch.utils.data.Dataset):\n",
    "    def __init__(self, encodings, labels):\n",
    "        self.encodings = encodings\n",
    "        self.labels = labels\n",
    "\n",
    "    def __len__(self):\n",
    "        return len(self.labels)\n",
    "\n",
    "    def __getitem__(self, idx):\n",
    "        item = {key: torch.tensor(val[idx]) for key, val in self.encodings.items()}\n",
    "        item['labels'] = torch.tensor(self.labels[idx])\n",
    "        return item\n",
    "\n",
    "train_dataset = SentimentDataset(train_encodings, df_train['sentiment_label'].tolist())\n",
    "test_dataset = SentimentDataset(test_encodings, df_test['sentiment_label'].tolist())"
   ]
  },
  {
   "cell_type": "code",
   "execution_count": 12,
   "id": "6ecc96c2-1ddb-4d67-af5d-2ef13dc3990e",
   "metadata": {},
   "outputs": [
    {
     "name": "stderr",
     "output_type": "stream",
     "text": [
      "/Users/z88756212/anaconda3/lib/python3.10/site-packages/huggingface_hub/file_download.py:1150: FutureWarning: `resume_download` is deprecated and will be removed in version 1.0.0. Downloads always resume when possible. If you want to force a new download, use `force_download=True`.\n",
      "  warnings.warn(\n",
      "Some weights of the model checkpoint at bert-base-uncased were not used when initializing BertForSequenceClassification: ['cls.predictions.transform.dense.weight', 'cls.predictions.transform.LayerNorm.bias', 'cls.seq_relationship.weight', 'cls.predictions.transform.dense.bias', 'cls.seq_relationship.bias', 'cls.predictions.decoder.weight', 'cls.predictions.bias', 'cls.predictions.transform.LayerNorm.weight']\n",
      "- This IS expected if you are initializing BertForSequenceClassification from the checkpoint of a model trained on another task or with another architecture (e.g. initializing a BertForSequenceClassification model from a BertForPreTraining model).\n",
      "- This IS NOT expected if you are initializing BertForSequenceClassification from the checkpoint of a model that you expect to be exactly identical (initializing a BertForSequenceClassification model from a BertForSequenceClassification model).\n",
      "Some weights of BertForSequenceClassification were not initialized from the model checkpoint at bert-base-uncased and are newly initialized: ['classifier.weight', 'classifier.bias']\n",
      "You should probably TRAIN this model on a down-stream task to be able to use it for predictions and inference.\n"
     ]
    },
    {
     "data": {
      "text/plain": [
       "BertForSequenceClassification(\n",
       "  (bert): BertModel(\n",
       "    (embeddings): BertEmbeddings(\n",
       "      (word_embeddings): Embedding(30522, 768, padding_idx=0)\n",
       "      (position_embeddings): Embedding(512, 768)\n",
       "      (token_type_embeddings): Embedding(2, 768)\n",
       "      (LayerNorm): LayerNorm((768,), eps=1e-12, elementwise_affine=True)\n",
       "      (dropout): Dropout(p=0.1, inplace=False)\n",
       "    )\n",
       "    (encoder): BertEncoder(\n",
       "      (layer): ModuleList(\n",
       "        (0-11): 12 x BertLayer(\n",
       "          (attention): BertAttention(\n",
       "            (self): BertSelfAttention(\n",
       "              (query): Linear(in_features=768, out_features=768, bias=True)\n",
       "              (key): Linear(in_features=768, out_features=768, bias=True)\n",
       "              (value): Linear(in_features=768, out_features=768, bias=True)\n",
       "              (dropout): Dropout(p=0.1, inplace=False)\n",
       "            )\n",
       "            (output): BertSelfOutput(\n",
       "              (dense): Linear(in_features=768, out_features=768, bias=True)\n",
       "              (LayerNorm): LayerNorm((768,), eps=1e-12, elementwise_affine=True)\n",
       "              (dropout): Dropout(p=0.1, inplace=False)\n",
       "            )\n",
       "          )\n",
       "          (intermediate): BertIntermediate(\n",
       "            (dense): Linear(in_features=768, out_features=3072, bias=True)\n",
       "            (intermediate_act_fn): GELUActivation()\n",
       "          )\n",
       "          (output): BertOutput(\n",
       "            (dense): Linear(in_features=3072, out_features=768, bias=True)\n",
       "            (LayerNorm): LayerNorm((768,), eps=1e-12, elementwise_affine=True)\n",
       "            (dropout): Dropout(p=0.1, inplace=False)\n",
       "          )\n",
       "        )\n",
       "      )\n",
       "    )\n",
       "    (pooler): BertPooler(\n",
       "      (dense): Linear(in_features=768, out_features=768, bias=True)\n",
       "      (activation): Tanh()\n",
       "    )\n",
       "  )\n",
       "  (dropout): Dropout(p=0.1, inplace=False)\n",
       "  (classifier): Linear(in_features=768, out_features=2, bias=True)\n",
       ")"
      ]
     },
     "execution_count": 12,
     "metadata": {},
     "output_type": "execute_result"
    }
   ],
   "source": [
    "from transformers import BertForSequenceClassification\n",
    "\n",
    "device = torch.device(\"cuda\" if torch.cuda.is_available() else \"cpu\")\n",
    "\n",
    "model = BertForSequenceClassification.from_pretrained(\"bert-base-uncased\", num_labels=2)\n",
    "model.to(device) "
   ]
  },
  {
   "cell_type": "code",
   "execution_count": 13,
   "id": "c59acbc1-e3c2-4e0c-a085-a9cf35a6794e",
   "metadata": {},
   "outputs": [
    {
     "data": {
      "text/plain": [
       "BertForSequenceClassification(\n",
       "  (bert): BertModel(\n",
       "    (embeddings): BertEmbeddings(\n",
       "      (word_embeddings): Embedding(30522, 768, padding_idx=0)\n",
       "      (position_embeddings): Embedding(512, 768)\n",
       "      (token_type_embeddings): Embedding(2, 768)\n",
       "      (LayerNorm): LayerNorm((768,), eps=1e-12, elementwise_affine=True)\n",
       "      (dropout): Dropout(p=0.1, inplace=False)\n",
       "    )\n",
       "    (encoder): BertEncoder(\n",
       "      (layer): ModuleList(\n",
       "        (0-11): 12 x BertLayer(\n",
       "          (attention): BertAttention(\n",
       "            (self): BertSelfAttention(\n",
       "              (query): Linear(in_features=768, out_features=768, bias=True)\n",
       "              (key): Linear(in_features=768, out_features=768, bias=True)\n",
       "              (value): Linear(in_features=768, out_features=768, bias=True)\n",
       "              (dropout): Dropout(p=0.1, inplace=False)\n",
       "            )\n",
       "            (output): BertSelfOutput(\n",
       "              (dense): Linear(in_features=768, out_features=768, bias=True)\n",
       "              (LayerNorm): LayerNorm((768,), eps=1e-12, elementwise_affine=True)\n",
       "              (dropout): Dropout(p=0.1, inplace=False)\n",
       "            )\n",
       "          )\n",
       "          (intermediate): BertIntermediate(\n",
       "            (dense): Linear(in_features=768, out_features=3072, bias=True)\n",
       "            (intermediate_act_fn): GELUActivation()\n",
       "          )\n",
       "          (output): BertOutput(\n",
       "            (dense): Linear(in_features=3072, out_features=768, bias=True)\n",
       "            (LayerNorm): LayerNorm((768,), eps=1e-12, elementwise_affine=True)\n",
       "            (dropout): Dropout(p=0.1, inplace=False)\n",
       "          )\n",
       "        )\n",
       "      )\n",
       "    )\n",
       "    (pooler): BertPooler(\n",
       "      (dense): Linear(in_features=768, out_features=768, bias=True)\n",
       "      (activation): Tanh()\n",
       "    )\n",
       "  )\n",
       "  (dropout): Dropout(p=0.1, inplace=False)\n",
       "  (classifier): Linear(in_features=768, out_features=2, bias=True)\n",
       ")"
      ]
     },
     "execution_count": 13,
     "metadata": {},
     "output_type": "execute_result"
    }
   ],
   "source": [
    "import torch\n",
    "\n",
    "device = torch.device(\"mps\" if torch.backends.mps.is_available() else \"cpu\")\n",
    "model.to(device)\n"
   ]
  },
  {
   "cell_type": "code",
   "execution_count": 14,
   "id": "e52087fd-1f26-4902-bb67-f9ad8af333e8",
   "metadata": {},
   "outputs": [],
   "source": [
    "from torch.utils.data import DataLoader\n",
    "\n",
    "batch_size = 8  \n",
    "\n",
    "train_loader = DataLoader(train_dataset, batch_size=batch_size, shuffle=True)\n",
    "test_loader = DataLoader(test_dataset, batch_size=batch_size, shuffle=False)\n"
   ]
  },
  {
   "cell_type": "code",
   "execution_count": 15,
   "id": "53c1cd55-0495-4961-bebf-057559660566",
   "metadata": {},
   "outputs": [
    {
     "name": "stderr",
     "output_type": "stream",
     "text": [
      "/Users/z88756212/anaconda3/lib/python3.10/site-packages/transformers/optimization.py:306: FutureWarning: This implementation of AdamW is deprecated and will be removed in a future version. Use the PyTorch implementation torch.optim.AdamW instead, or set `no_deprecation_warning=True` to disable this warning\n",
      "  warnings.warn(\n"
     ]
    }
   ],
   "source": [
    "from transformers import AdamW\n",
    "\n",
    "optimizer = AdamW(model.parameters(), lr=1e-5, eps=1e-8)\n",
    "\n",
    "loss_fn = torch.nn.CrossEntropyLoss()\n"
   ]
  },
  {
   "cell_type": "code",
   "execution_count": 16,
   "id": "1d6c94f3-ea07-412f-9a95-943646056233",
   "metadata": {},
   "outputs": [
    {
     "name": "stderr",
     "output_type": "stream",
     "text": [
      "Epoch 1: 100%|██████████████████| 348/348 [4:10:33<00:00, 43.20s/it, loss=0.601]\n",
      "Epoch 2: 100%|██████████████████| 348/348 [3:08:44<00:00, 32.54s/it, loss=0.231]\n",
      "Epoch 3: 100%|███████████████████| 348/348 [3:27:51<00:00, 35.84s/it, loss=1.23]\n"
     ]
    }
   ],
   "source": [
    "from transformers import get_scheduler\n",
    "\n",
    "num_epochs = 3\n",
    "num_training_steps = num_epochs * len(train_loader)\n",
    "lr_scheduler = get_scheduler(\"linear\", optimizer=optimizer, num_warmup_steps=0, num_training_steps=num_training_steps)\n",
    "\n",
    "\n",
    "from tqdm import tqdm\n",
    "\n",
    "for epoch in range(num_epochs):\n",
    "    model.train() \n",
    "    loop = tqdm(train_loader, leave=True)\n",
    "    \n",
    "    for batch in loop:\n",
    "\n",
    "        input_ids = batch[\"input_ids\"].to(device)\n",
    "        attention_mask = batch[\"attention_mask\"].to(device)\n",
    "        labels = batch[\"labels\"].to(device)\n",
    "\n",
    "        outputs = model(input_ids, attention_mask=attention_mask, labels=labels)\n",
    "        loss = outputs.loss\n",
    "        logits = outputs.logits\n",
    "\n",
    "        optimizer.zero_grad()\n",
    "        loss.backward()\n",
    "        optimizer.step()\n",
    "        lr_scheduler.step()\n",
    "\n",
    "        # 更新進度條\n",
    "        loop.set_description(f\"Epoch {epoch+1}\")\n",
    "        loop.set_postfix(loss=loss.item())\n"
   ]
  },
  {
   "cell_type": "code",
   "execution_count": 19,
   "id": "f6235697-4a16-4be3-b22a-5e70f9fd9608",
   "metadata": {},
   "outputs": [
    {
     "name": "stdout",
     "output_type": "stream",
     "text": [
      "測試準確率: 0.8022\n",
      "              precision    recall  f1-score   support\n",
      "\n",
      "    negative       0.69      0.46      0.55       240\n",
      "    positive       0.83      0.93      0.87       670\n",
      "\n",
      "    accuracy                           0.80       910\n",
      "   macro avg       0.76      0.69      0.71       910\n",
      "weighted avg       0.79      0.80      0.79       910\n",
      "\n"
     ]
    }
   ],
   "source": [
    "from sklearn.metrics import accuracy_score, classification_report\n",
    "\n",
    "model.eval() \n",
    "all_preds = []\n",
    "all_labels = []\n",
    "\n",
    "with torch.no_grad():\n",
    "    for batch in test_loader:\n",
    "        input_ids = batch[\"input_ids\"].to(device)\n",
    "        attention_mask = batch[\"attention_mask\"].to(device)\n",
    "        labels = batch[\"labels\"].to(device)\n",
    "\n",
    "        outputs = model(input_ids, attention_mask=attention_mask)\n",
    "        logits = outputs.logits\n",
    "        predictions = torch.argmax(logits, dim=-1)\n",
    "\n",
    "        all_preds.extend(predictions.cpu().numpy())\n",
    "        all_labels.extend(labels.cpu().numpy())\n",
    "\n",
    "accuracy = accuracy_score(all_labels, all_preds)\n",
    "print(f\"測試準確率: {accuracy:.4f}\")\n",
    "\n",
    "\n",
    "\n",
    "report = classification_report(all_labels, all_preds, target_names=[\"negative\", \"positive\"])\n",
    "print(report)\n",
    "      "
   ]
  },
  {
   "cell_type": "code",
   "execution_count": null,
   "id": "5d932816-98fa-45d5-ab6a-aefeea5ac5d5",
   "metadata": {},
   "outputs": [],
   "source": []
  }
 ],
 "metadata": {
  "kernelspec": {
   "display_name": "Python [conda env:anaconda3]",
   "language": "python",
   "name": "conda-env-anaconda3-py"
  },
  "language_info": {
   "codemirror_mode": {
    "name": "ipython",
    "version": 3
   },
   "file_extension": ".py",
   "mimetype": "text/x-python",
   "name": "python",
   "nbconvert_exporter": "python",
   "pygments_lexer": "ipython3",
   "version": "3.10.9"
  }
 },
 "nbformat": 4,
 "nbformat_minor": 5
}
